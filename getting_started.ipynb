{
 "cells": [
  {
   "cell_type": "markdown",
   "metadata": {
    "collapsed": true,
    "pycharm": {
     "name": "#%% md\n"
    }
   },
   "source": [
    "# Getting started with DynamicFieldFlow\n",
    "\n",
    "In this tutorial, we will demonstrate how DFT architectures can be created and simulated in Python. We are going to use two libraries:\n",
    "- [DynamicFieldPy](https://github.com/danielsabinasz/DynamicFieldPy) (DFPy): A high-level API that allows to define DFT architectures in a generic way, i.e., in a way that is uncommitted as to the means by which the architecture is simulated (e.g., on a CPU, a GPU, or neuromorphic hardware).\n",
    "- [DynamicFieldFlow](https://github.com/danielsabinasz/DynamicFieldFlow) (DFF): A library that allows to simulate DFPy architectures by means of the [TensorFlow](https://www.tensorflow.org) framework"
   ]
  },
  {
   "cell_type": "markdown",
   "metadata": {
    "pycharm": {
     "name": "#%% md\n"
    }
   },
   "source": [
    "# Preliminaries\n",
    "\n",
    "## Installing DynamicFieldPy\n",
    "The first step is to install the python package ``dfpy``. It can be installed from its [GitHub repository](https://github.com/danielsabinasz/DynamicFieldPy), e.g., by running the following command in a console:\n",
    "\n",
    "```console\n",
    "pip3 install git+https://github.com/danielsabinasz/DynamicFieldPy.git\n",
    "```"
   ]
  },
  {
   "cell_type": "markdown",
   "metadata": {
    "pycharm": {
     "name": "#%% md\n"
    }
   },
   "source": [
    "## Installing DynamicFieldFlow\n",
    "In order to simulate DFPy architectures, we use DFF. This library can be installed from its [GitHub repository](https://github.com/danielsabinasz/DynamicFieldFlow), e.g., by running the following command in a console:\n",
    "\n",
    "```console\n",
    "pip3 install git+https://github.com/danielsabinasz/DynamicFieldFlow.git\n",
    "```"
   ]
  },
  {
   "cell_type": "markdown",
   "metadata": {
    "pycharm": {
     "name": "#%% md\n"
    }
   },
   "source": [
    "# Creating a simple architecture\n",
    "\n",
    "In our first architecture, we will create a 2D field with size 51 x 51 that receives a Gaussian input. This can be done as follows:"
   ]
  },
  {
   "cell_type": "code",
   "execution_count": null,
   "metadata": {
    "pycharm": {
     "name": "#%%\n"
    }
   },
   "outputs": [],
   "source": [
    "from dfpy import *\n",
    "\n",
    "field = Field((51, 51))\n",
    "field.resting_level = -5.0\n",
    "field.interaction_kernel = GaussWeightPattern(height=0.05, sigmas=(5.0, 5.0,))\n",
    "field.global_inhibition = -0.005\n",
    "field.assignable = True # Allow real-time edits of attributes\n",
    "\n",
    "gauss_input = GaussInput((51, 51))\n",
    "gauss_input.mean = [15.0, 25.0]\n",
    "gauss_input.sigmas = [5.0, 5.0]\n",
    "gauss_input.assignable = True\n",
    "\n",
    "connect(gauss_input, field);"
   ]
  },
  {
   "cell_type": "markdown",
   "metadata": {
    "pycharm": {
     "name": "#%% md\n"
    }
   },
   "source": [
    "## Simulating the architecture\n",
    "\n",
    "Having created the DFPy architecture, we are now able to simulate it with DFF. For this purpose, we create a `Simulator` object and run a simulation for 200 ms. Note that upon the first simulation run, the architecture is converted into a computational graph suitable for simulation. This is a costly operation and may take a few seconds, depending on the hardware. However, this operation only needs to run once. All subsequent simulation calls run much faster."
   ]
  },
  {
   "cell_type": "code",
   "execution_count": null,
   "metadata": {
    "pycharm": {
     "name": "#%%\n"
    }
   },
   "outputs": [],
   "source": [
    "from dff import *\n",
    "\n",
    "simulator = Simulator()\n",
    "simulator.simulate_for(200);"
   ]
  },
  {
   "cell_type": "markdown",
   "metadata": {
    "pycharm": {
     "name": "#%% md\n"
    }
   },
   "source": [
    "## Plotting the activation\n",
    "\n",
    "We may now plot the activation of the field:"
   ]
  },
  {
   "cell_type": "code",
   "execution_count": null,
   "metadata": {
    "pycharm": {
     "name": "#%%\n"
    }
   },
   "outputs": [],
   "source": [
    "%matplotlib notebook\n",
    "field_plot = default_snapshot_plot(field)\n",
    "field_plot.draw(simulator.get_value(field))"
   ]
  },
  {
   "cell_type": "markdown",
   "metadata": {
    "pycharm": {
     "name": "#%% md\n"
    }
   },
   "source": [
    "Note that the Gaussian input was not sufficient to induce a peak in the field (the activation in the entire field is negative). This is because, by default, the Gaussian has a height of one. We can alter its height, run the simulation for another 200 ms, and redraw the plot:"
   ]
  },
  {
   "cell_type": "code",
   "execution_count": null,
   "metadata": {
    "pycharm": {
     "name": "#%%\n"
    }
   },
   "outputs": [],
   "source": [
    "gauss_input.height = 9.0\n",
    "simulator.simulate_for(200)\n",
    "field_plot.draw(simulator.get_value(field))"
   ]
  },
  {
   "cell_type": "markdown",
   "metadata": {
    "pycharm": {
     "name": "#%% md\n"
    }
   },
   "source": [
    "The plot above has been updated and should now depict a peak.\n",
    "\n",
    "Let us create a second Gaussian input to the right of the first one and update the plot again:"
   ]
  },
  {
   "cell_type": "code",
   "execution_count": null,
   "metadata": {
    "pycharm": {
     "name": "#%%\n"
    }
   },
   "outputs": [],
   "source": [
    "gauss_input_2 = GaussInput((51, 51))\n",
    "gauss_input_2.mean = [35.0, 25.0]\n",
    "gauss_input_2.sigmas = [5.0, 5.0]\n",
    "gauss_input_2.height = 4.0\n",
    "gauss_input_2.assignable = True\n",
    "connect(gauss_input_2, field)\n",
    "\n",
    "simulator.simulate_for(200)\n",
    "field_plot.draw(simulator.get_value(field))"
   ]
  },
  {
   "cell_type": "markdown",
   "metadata": {
    "pycharm": {
     "name": "#%% md\n"
    }
   },
   "source": [
    "As can be seen in the plot, the second Gaussian does not induce a peak, but only a subthreshold bump of activation."
   ]
  },
  {
   "cell_type": "markdown",
   "metadata": {
    "pycharm": {
     "name": "#%% md\n"
    }
   },
   "source": [
    "# Exercises\n",
    "\n",
    "## Exercise 1: Altering input strength\n",
    "\n",
    "Your first exercise is to figure out why the second Gaussian does not induce a peak by looking at the previous code cell, and then fixing this by adding a single line of code to the code cell below. After running that code cell, the plot should depict two peaks."
   ]
  },
  {
   "cell_type": "code",
   "execution_count": null,
   "metadata": {
    "pycharm": {
     "name": "#%%\n"
    }
   },
   "outputs": [],
   "source": [
    "# Insert your code below this line\n",
    "\n",
    "\n",
    "\n",
    "# Leave everything below this line untouched\n",
    "\n",
    "simulator.simulate_for(200)\n",
    "field_plot.draw(simulator.get_value(field))"
   ]
  },
  {
   "cell_type": "markdown",
   "metadata": {
    "pycharm": {
     "name": "#%% md\n"
    }
   },
   "source": [
    "## Exercise 2: Selection\n",
    "\n",
    "Cognition depends crucially on the capacity to select representations for further processing. In DFT, selection is achieved by global inhibition in the field. Your exercise is to tune the architecture such that it makes a selection decision between the two Gaussian inputs. Only edit the designated lines of code. You can re-run the code cell as often as you like. It will re-run the simulation from the beginning each time."
   ]
  },
  {
   "cell_type": "code",
   "execution_count": null,
   "metadata": {
    "pycharm": {
     "name": "#%%\n"
    }
   },
   "outputs": [],
   "source": [
    "# Edit the code below this line\n",
    "\n",
    "field.global_inhibition = -0.000\n",
    "field.interaction_kernel = GaussWeightPattern(height=0.05, sigmas=(5.0, 5.0,))\n",
    "\n",
    "# Leave everything below this line untouched\n",
    "\n",
    "simulator.reset_time()\n",
    "simulator.simulate_for(300)\n",
    "\n",
    "field_plot_selection = default_snapshot_plot(field)\n",
    "field_plot_selection.draw(simulator.get_value(field))"
   ]
  },
  {
   "cell_type": "markdown",
   "metadata": {
    "pycharm": {
     "name": "#%% md\n"
    }
   },
   "source": [
    "## Exercise 3: Short-term memory\n",
    "\n",
    "In the following, we aim to tune the parameters of our architecture such that it may serve as a short-term memory. For this purpose, we create a code cell that sets both Gaussian inputs to a high amplitude, simulates the architecture for 300 ms, plots the field activation, then reduces the amplitudes to 0, simulates the architecture for another 300 ms, and again plots the field activation. Initially, the parameters are not tuned, so the peaks decay during the second simulation run. Your task is to tune the parameters of the field such that they no longer decay:"
   ]
  },
  {
   "cell_type": "code",
   "execution_count": null,
   "metadata": {
    "pycharm": {
     "name": "#%%\n"
    }
   },
   "outputs": [],
   "source": [
    "# Edit the code below this line\n",
    "\n",
    "field.interaction_kernel = GaussWeightPattern(height=0.0, sigmas=(5.0, 5.0,))\n",
    "field.global_inhibition = -0.0\n",
    "\n",
    "# Leave everything below this line untouched\n",
    "\n",
    "gauss_input.height = 9.0\n",
    "gauss_input_2.height = 9.0\n",
    "\n",
    "simulator.reset_time()\n",
    "simulator.simulate_for(300)\n",
    "\n",
    "field_plot_after_300_ms = default_snapshot_plot(field)\n",
    "field_plot_after_300_ms.draw(simulator.get_value(field))\n",
    "\n",
    "gauss_input.height = 0.0\n",
    "gauss_input_2.height = 0.0\n",
    "\n",
    "simulator.simulate_for(300)\n",
    "\n",
    "field_plot_after_600_ms = default_snapshot_plot(field)\n",
    "field_plot_after_600_ms.draw(simulator.get_value(field))"
   ]
  },
  {
   "cell_type": "code",
   "execution_count": null,
   "metadata": {
    "pycharm": {
     "name": "#%%\n"
    }
   },
   "outputs": [],
   "source": []
  }
 ],
 "metadata": {
  "kernelspec": {
   "display_name": "Python 3 (ipykernel)",
   "language": "python",
   "name": "python3"
  },
  "language_info": {
   "codemirror_mode": {
    "name": "ipython",
    "version": 3
   },
   "file_extension": ".py",
   "mimetype": "text/x-python",
   "name": "python",
   "nbconvert_exporter": "python",
   "pygments_lexer": "ipython3",
   "version": "3.8.3"
  }
 },
 "nbformat": 4,
 "nbformat_minor": 1
}
